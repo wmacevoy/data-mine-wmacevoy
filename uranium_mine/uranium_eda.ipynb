{
 "cells": [
  {
   "cell_type": "markdown",
   "id": "14ddd230",
   "metadata": {},
   "source": [
    "# Uranium Dataset Exploratory Analysis (R)\n",
    "\n",
    "This Jupyter notebook demonstrates how to explore the uranium mining dataset using the R language.  It reads configuration from `config.json` to locate the CSV file, loads the data into a `data.frame`, and performs simple exploratory data analysis using packages like **dplyr** and **ggplot2**.  Each code cell is commented to explain its purpose and the underlying steps.\n",
    "\n",
    "*Note:* The R kernel must be installed in your Jupyter environment for this notebook to execute.  You can usually install it via the `IRkernel` package."
   ]
  },
  {
   "cell_type": "code",
   "execution_count": null,
   "id": "cd0e4096",
   "metadata": {},
   "outputs": [],
   "source": [
    "# Load required libraries\n",
    "# We use jsonlite to read the configuration,\n",
    "# dplyr for data manipulation, and ggplot2 for visualisation.\n",
    "library(jsonlite)\n",
    "library(dplyr)\n",
    "library(ggplot2)\n",
    "\n",
    "# It's a good idea to check that packages are installed.\n",
    "# If any of these lines error, you may need to install the package\n",
    "# using install.packages()."
   ]
  },
  {
   "cell_type": "code",
   "execution_count": null,
   "id": "007601e5",
   "metadata": {},
   "outputs": [],
   "source": [
    "# Read configuration from config.json\n",
    "# This assumes the working directory is the root of the uranium_dataset package.\n",
    "config <- fromJSON('config.json')\n",
    "\n",
    "# Determine the full path to the dataset.  The config value may be relative.\n",
    "dataset_path <- config$dataset_path\n",
    "\n",
    "# Load the uranium dataset.  We set stringsAsFactors=FALSE to keep character data\n",
    "# as strings rather than factors (which are less convenient for summarisation).\n",
    "uranium <- read.csv(dataset_path, stringsAsFactors = FALSE)\n",
    "\n",
    "# Inspect the first few rows to ensure the data loaded correctly.\n",
    "head(uranium)"
   ]
  },
  {
   "cell_type": "code",
   "execution_count": null,
   "id": "9edbeb3e",
   "metadata": {},
   "outputs": [],
   "source": [
    "# Summarise the number of records per state\n",
    "# We use dplyr to group the data by state and count the number of rows.\n",
    "state_counts <- uranium %>%\n",
    "    group_by(state) %>%\n",
    "    summarise(count = n()) %>%\n",
    "    arrange(desc(count))\n",
    "\n",
    "# Display the counts.  The head() function shows the top entries.\n",
    "head(state_counts, 10)\n",
    "\n",
    "# Plot the counts using ggplot2.  We reorder the states by descending count\n",
    "# and draw a bar chart.\n",
    "ggplot(state_counts, aes(x = reorder(state, -count), y = count)) +\n",
    "    geom_bar(stat = 'identity') +\n",
    "    theme_minimal() +\n",
    "    labs(title = 'Uranium mining records by state', x = 'State', y = 'Count') +\n",
    "    coord_flip()"
   ]
  },
  {
   "cell_type": "code",
   "execution_count": null,
   "id": "612dbefa",
   "metadata": {},
   "outputs": [],
   "source": [
    "# Summarise the number of records per deposit type (dep_type)\n",
    "# Replace missing values with '<missing>' for clarity.\n",
    "uranium$dep_type_clean <- ifelse(is.na(uranium$dep_type) | uranium$dep_type == '', '<missing>', uranium$dep_type)\n",
    "\n",
    "dep_counts <- uranium %>%\n",
    "    group_by(dep_type_clean) %>%\n",
    "    summarise(count = n()) %>%\n",
    "    arrange(desc(count))\n",
    "\n",
    "head(dep_counts, 10)\n",
    "\n",
    "# Visualise deposit type frequencies for the top categories\n",
    "top_dep <- dep_counts %>% slice_head(n = 10)\n",
    "ggplot(top_dep, aes(x = reorder(dep_type_clean, -count), y = count)) +\n",
    "    geom_bar(stat = 'identity') +\n",
    "    theme_minimal() +\n",
    "    labs(title = 'Top deposit types (dep\\_type)', x = 'Deposit type', y = 'Count') +\n",
    "    coord_flip()"
   ]
  },
  {
   "cell_type": "code",
   "execution_count": null,
   "id": "bbb3c08a",
   "metadata": {},
   "outputs": [],
   "source": [
    "# Compute basic numeric summaries for latitude and longitude\n",
    "# The summary() function returns min, quartiles, median, mean and max.\n",
    "summary(uranium[, c('latitude', 'longitude')])"
   ]
  }
 ],
 "metadata": {
  "kernelspec": {
   "display_name": "R",
   "language": "R",
   "name": "ir"
  },
  "language_info": {
   "name": "R",
   "version": "4.2.0"
  }
 },
 "nbformat": 4,
 "nbformat_minor": 5
}
